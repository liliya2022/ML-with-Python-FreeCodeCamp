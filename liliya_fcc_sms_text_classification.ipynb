{
  "cells": [
    {
      "cell_type": "markdown",
      "metadata": {
        "id": "view-in-github",
        "colab_type": "text"
      },
      "source": [
        "<a href=\"https://colab.research.google.com/github/liliya2022/ML-with-Python-FreeCodeCamp/blob/main/liliya_fcc_sms_text_classification.ipynb\" target=\"_parent\"><img src=\"https://colab.research.google.com/assets/colab-badge.svg\" alt=\"Open In Colab\"/></a>"
      ]
    },
    {
      "cell_type": "code",
      "source": [
        "\n",
        "# import libraries\n",
        "import pandas as pd\n",
        "import numpy as np\n",
        "import matplotlib.pyplot as plt\n",
        "from tensorflow.keras.preprocessing.text import one_hot\n",
        "from tensorflow.keras.preprocessing.sequence import pad_sequences\n",
        "from tensorflow.keras.models import Sequential\n",
        "from tensorflow.keras.layers import Flatten, Embedding, Dense, Dropout\n",
        "from tensorflow.keras.callbacks import EarlyStopping"
      ],
      "metadata": {
        "id": "82jCMPgSWyXJ"
      },
      "execution_count": null,
      "outputs": []
    },
    {
      "cell_type": "code",
      "execution_count": null,
      "metadata": {
        "id": "lMHwYXHXCar3"
      },
      "outputs": [],
      "source": [
        "# get data files\n",
        "!wget https://cdn.freecodecamp.org/project-data/sms/train-data.tsv\n",
        "!wget https://cdn.freecodecamp.org/project-data/sms/valid-data.tsv\n",
        "\n",
        "# Load data\n",
        "train_file_path = \"train-data.tsv\"\n",
        "test_file_path = \"valid-data.tsv\""
      ]
    },
    {
      "cell_type": "code",
      "source": [
        "train_data = pd.read_csv(train_file_path, sep='\\t', header=None, names=['Label', 'Message'])\n",
        "test_data = pd.read_csv(test_file_path, sep='\\t', header=None, names=['Label', 'Message'])"
      ],
      "metadata": {
        "id": "zR5BXWgoLXG5"
      },
      "execution_count": null,
      "outputs": []
    },
    {
      "cell_type": "code",
      "source": [
        "train_data.head()"
      ],
      "metadata": {
        "id": "ODrHZPjlZYPJ"
      },
      "execution_count": null,
      "outputs": []
    },
    {
      "cell_type": "code",
      "source": [
        "train_text = train_data[\"Message\"].values.tolist()\n",
        "train_label = np.array([0 if x == 'ham' else 1 for x in train_data[\"Label\"].values.tolist()])\n",
        "test_text = test_data[\"Message\"].values.tolist()\n",
        "test_label = np.array([0 if x == 'ham' else 1 for x in test_data[\"Label\"].values.tolist()])"
      ],
      "metadata": {
        "id": "zZUmxumuPm4R"
      },
      "execution_count": null,
      "outputs": []
    },
    {
      "cell_type": "code",
      "source": [
        "# Build vocabulary\n",
        "vocabulary_dict = {}\n",
        "for text in train_text:\n",
        "    for word in text.split():\n",
        "        if word not in vocabulary_dict:\n",
        "            vocabulary_dict[word] = 1\n",
        "        else:\n",
        "            vocabulary_dict[word] += 1"
      ],
      "metadata": {
        "id": "qGb5XVzbPmzJ"
      },
      "execution_count": null,
      "outputs": []
    },
    {
      "cell_type": "code",
      "source": [
        "VOCAB_SIZE = len(vocabulary_dict)\n",
        "MAX_LENGTH = len(max(train_text, key=lambda p: len(p.split())).split())\n"
      ],
      "metadata": {
        "id": "H2W00M7NPmwj"
      },
      "execution_count": null,
      "outputs": []
    },
    {
      "cell_type": "code",
      "source": [
        "# Encode and pad sequences\n",
        "padded_train_text = pad_sequences([one_hot(text, VOCAB_SIZE) for text in train_text], maxlen=MAX_LENGTH, padding='post')\n",
        "padded_test_text = pad_sequences([one_hot(text, VOCAB_SIZE) for text in test_text], maxlen=MAX_LENGTH, padding='post')\n",
        "\n"
      ],
      "metadata": {
        "id": "sII4ydBYSxgR"
      },
      "execution_count": null,
      "outputs": []
    },
    {
      "cell_type": "code",
      "source": [
        "#Build the model\n",
        "model = Sequential([\n",
        "    Embedding(VOCAB_SIZE, 100, input_length=MAX_LENGTH),\n",
        "    Flatten(),\n",
        "    Dense(64, activation='relu'),  # Increased the number of units\n",
        "    Dropout(0.5),  # Added dropout to reduce overfitting\n",
        "    Dense(1, activation='sigmoid')\n",
        "])\n",
        "\n",
        "model.compile(optimizer='adam', loss='binary_crossentropy', metrics=['accuracy'])\n",
        "\n",
        "\n",
        "model.summary()"
      ],
      "metadata": {
        "id": "G2jS61OYSxcn"
      },
      "execution_count": null,
      "outputs": []
    },
    {
      "cell_type": "code",
      "source": [
        "# Set up EarlyStopping\n",
        "monitor = EarlyStopping(monitor='val_accuracy', min_delta=1e-4, patience=25, verbose=1, mode='max', restore_best_weights=True)"
      ],
      "metadata": {
        "id": "ser_Y-2vZ_e0"
      },
      "execution_count": null,
      "outputs": []
    },
    {
      "cell_type": "code",
      "source": [
        "# Train the model\n",
        "history = model.fit(padded_train_text, train_label, validation_data=(padded_test_text, test_label),\n",
        "                    callbacks=[monitor], epochs=1000, verbose=2)\n"
      ],
      "metadata": {
        "id": "tppOspF4YRwo"
      },
      "execution_count": null,
      "outputs": []
    },
    {
      "cell_type": "code",
      "source": [
        "# Plot Training and Validation Accuracy\n",
        "plt.plot(history.history['accuracy'], label='accuracy')\n",
        "plt.plot(history.history['val_accuracy'], label='val_accuracy')\n",
        "plt.xlabel('Epoch')\n",
        "plt.ylabel('Accuracy')\n",
        "plt.ylim([0, 1])\n",
        "plt.legend(loc='lower right')\n",
        "plt.show()"
      ],
      "metadata": {
        "id": "dWz7MHDia5s8"
      },
      "execution_count": null,
      "outputs": []
    },
    {
      "cell_type": "code",
      "execution_count": null,
      "metadata": {
        "id": "J9tD9yACG6M9"
      },
      "outputs": [],
      "source": [
        "# function to predict messages based on model\n",
        "# (should return list containing prediction and label, ex. [0.008318834938108921, 'ham'])\n",
        "def predict_message(pred_text):\n",
        "    class_dict = {0: 'ham', 1: 'spam'}\n",
        "    encoded_message = one_hot(pred_text, VOCAB_SIZE)\n",
        "    padded_message = pad_sequences([encoded_message], maxlen=MAX_LENGTH, padding='post')\n",
        "    prediction_prob = model.predict(padded_message)[0][0]\n",
        "    predicted_class = round(prediction_prob)\n",
        "    return [float(prediction_prob), class_dict[predicted_class]]\n",
        "\n",
        "# Example usage\n",
        "pred_text = \"how are you doing today?\"\n",
        "prediction = predict_message(pred_text)\n",
        "print(prediction)\n"
      ]
    },
    {
      "cell_type": "code",
      "execution_count": null,
      "metadata": {
        "id": "Dxotov85SjsC"
      },
      "outputs": [],
      "source": [
        "# Run this cell to test your function and model. Do not modify contents.\n",
        "def test_predictions():\n",
        "  test_messages = [\"how are you doing today\",\n",
        "                   \"sale today! to stop texts call 98912460324\",\n",
        "                   \"i dont want to go. can we try it a different day? available sat\",\n",
        "                   \"our new mobile video service is live. just install on your phone to start watching.\",\n",
        "                   \"you have won £1000 cash! call to claim your prize.\",\n",
        "                   \"i'll bring it tomorrow. don't forget the milk.\",\n",
        "                   \"wow, is your arm alright. that happened to me one time too\"\n",
        "                  ]\n",
        "\n",
        "  test_answers = [\"ham\", \"spam\", \"ham\", \"spam\", \"spam\", \"ham\", \"ham\"]\n",
        "  passed = True\n",
        "\n",
        "  for msg, ans in zip(test_messages, test_answers):\n",
        "    prediction = predict_message(msg)\n",
        "    if prediction[1] != ans:\n",
        "      passed = False\n",
        "\n",
        "  if passed:\n",
        "    print(\"You passed the challenge. Great job!\")\n",
        "  else:\n",
        "    print(\"You haven't passed yet. Keep trying.\")\n",
        "\n",
        "test_predictions()\n"
      ]
    }
  ],
  "metadata": {
    "colab": {
      "private_outputs": true,
      "provenance": [],
      "include_colab_link": true
    },
    "kernelspec": {
      "display_name": "Python 3",
      "name": "python3"
    },
    "language_info": {}
  },
  "nbformat": 4,
  "nbformat_minor": 0
}